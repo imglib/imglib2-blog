{
 "cells": [
  {
   "cell_type": "markdown",
   "id": "d3687512",
   "metadata": {},
   "source": [
    "This notebook is a companion to the *N5 Basis Tutorial* on the [imglib2-blog](https://imglib.github.io/imglib2-blog/)."
   ]
  },
  {
   "cell_type": "code",
   "execution_count": 31,
   "id": "ef2f3d2c",
   "metadata": {},
   "outputs": [],
   "source": [
    "%mavenRepo scijava.public https://maven.scijava.org/content/groups/public\n",
    "%maven org.scijava:scijava-common:2.97.0\n",
    "%maven net.imglib2:imglib2:6.2.0\n",
    "%maven org.janelia.saalfeldlab:n5:3.1.2\n",
    "%maven org.janelia.saalfeldlab:n5-imglib2:7.0.0\n",
    "%maven org.janelia.saalfeldlab:n5-universe:1.3.1"
   ]
  },
  {
   "cell_type": "code",
   "execution_count": 32,
   "id": "f70aa4d8",
   "metadata": {},
   "outputs": [],
   "source": [
    "import java.nio.file.*;\n",
    "import java.util.stream.*;\n",
    "import java.util.concurrent.*;\n",
    "\n",
    "import com.google.gson.*;\n",
    "\n",
    "import net.imglib2.img.array.*;\n",
    "import net.imglib2.util.*;\n",
    "\n",
    "import org.janelia.saalfeldlab.n5.*;\n",
    "import org.janelia.saalfeldlab.n5.imglib2.*;\n",
    "import org.janelia.saalfeldlab.n5.universe.*;\n",
    "\n"
   ]
  },
  {
   "cell_type": "code",
   "execution_count": 33,
   "id": "89830e81",
   "metadata": {
    "tags": [
     "make-reader-writer"
    ]
   },
   "outputs": [
    {
     "data": {
      "text/plain": [
       "true"
      ]
     },
     "execution_count": 33,
     "metadata": {},
     "output_type": "execute_result"
    }
   ],
   "source": [
    "//| output: false\n",
    "\n",
    "// N5Factory can make N5Readers and N5Writers\n",
    "var factory = new N5Factory();\n",
    "\n",
    "// trying to open a container does not yet exist will throw an error \n",
    "// var n5Reader = factory.openReader(\"my-container.n5\");\n",
    "\n",
    "// creating a writer creates a container at the given location\n",
    "// if it does not already exist\n",
    "var n5Writer = factory.openWriter(\"my-container.n5\");\n",
    "\n",
    "// now we can make a reader\n",
    "var n5Reader = factory.openReader(\"my-container.n5\");\n",
    "\n",
    "// test if the container exists\n",
    "n5Reader.exists(\"\"); // true\n",
    "\n",
    "// \"\" and \"/\" both refer to the root of the container\n",
    "n5Reader.exists(\"/\"); // true"
   ]
  },
  {
   "cell_type": "code",
   "execution_count": 4,
   "id": "8a6621e1",
   "metadata": {
    "tags": [
     "factory-types"
    ]
   },
   "outputs": [
    {
     "data": {
      "text/plain": [
       "class org.janelia.saalfeldlab.n5.zarr.N5ZarrWriter"
      ]
     },
     "execution_count": 4,
     "metadata": {},
     "output_type": "execute_result"
    }
   ],
   "source": [
    "//| output: false\n",
    "factory.openWriter(\"my-container.h5\").getClass();   // N5HDF5Writer\n",
    "factory.openWriter(\"my-container.n5\").getClass();   // N5FSWriter\n",
    "factory.openWriter(\"my-container.zarr\").getClass(); // N5ZarrWriter"
   ]
  },
  {
   "cell_type": "code",
   "execution_count": 5,
   "id": "9ee0c14d",
   "metadata": {
    "tags": [
     "make-groups"
    ]
   },
   "outputs": [
    {
     "data": {
      "text/plain": [
       "false"
      ]
     },
     "execution_count": 5,
     "metadata": {},
     "output_type": "execute_result"
    }
   ],
   "source": [
    "//| output: false\n",
    "n5Writer.createGroup(\"foo\");\n",
    "n5Writer.createGroup(\"foo/bar\");\n",
    "n5Writer.createGroup(\"lorum/ipsum/dolor/sit/amet\");\n",
    "\n",
    "n5Writer.exists(\"lorum/ipsum\");      // true\n",
    "n5Writer.exists(\"not/a/real/group\"); // false"
   ]
  },
  {
   "cell_type": "code",
   "execution_count": 6,
   "id": "72496634",
   "metadata": {
    "tags": [
     "list"
    ]
   },
   "outputs": [
    {
     "data": {
      "text/plain": [
       "[Ljava.lang.String;@7ab37745"
      ]
     },
     "execution_count": 6,
     "metadata": {},
     "output_type": "execute_result"
    }
   ],
   "source": [
    "//| output: false\n",
    "n5Writer.list(\"\");     // [lorum, foo]\n",
    "n5Writer.list(\"foo\");  // [bar]"
   ]
  },
  {
   "cell_type": "code",
   "execution_count": 7,
   "id": "1f363282",
   "metadata": {
    "tags": [
     "deep-list"
    ]
   },
   "outputs": [
    {
     "data": {
      "text/plain": [
       "[data, lorum, lorum/ipsum, lorum/ipsum/dolor, lorum/ipsum/dolor/sit, lorum/ipsum/dolor/sit/amet, put-data-in-me, foo, foo/bar]"
      ]
     },
     "execution_count": 7,
     "metadata": {},
     "output_type": "execute_result"
    }
   ],
   "source": [
    "Arrays.toString(n5Writer.deepList(\"\"));"
   ]
  },
  {
   "cell_type": "code",
   "execution_count": 8,
   "id": "28e3835d",
   "metadata": {
    "tags": [
     "n5-imglib2-save"
    ]
   },
   "outputs": [],
   "source": [
    "// the arguments\n",
    "var img = ArrayImgs.floats(64,64);\n",
    "var groupPath = \"data\"; \n",
    "var chunkSize = new int[]{32,32};\n",
    "var compression = new GzipCompression();\n",
    "\n",
    "// save the image\n",
    "N5Utils.save(img, n5Writer, groupPath, chunkSize, compression);"
   ]
  },
  {
   "cell_type": "code",
   "execution_count": 9,
   "id": "131e8bd4",
   "metadata": {
    "tags": [
     "n5-imglib2-save-exec"
    ]
   },
   "outputs": [],
   "source": [
    "var exec = Executors.newFixedThreadPool(4); // with 4 parallel threads\n",
    "N5Utils.save(img, n5Writer, groupPath, chunkSize, compression, exec);"
   ]
  },
  {
   "cell_type": "code",
   "execution_count": 34,
   "id": "e1e99bc8",
   "metadata": {
    "tags": [
     "rm-array"
    ]
   },
   "outputs": [
    {
     "data": {
      "text/plain": [
       "true"
      ]
     },
     "execution_count": 34,
     "metadata": {},
     "output_type": "execute_result"
    }
   ],
   "source": [
    "n5Writer.remove(groupPath);"
   ]
  },
  {
   "cell_type": "code",
   "execution_count": null,
   "id": "91647d07",
   "metadata": {},
   "outputs": [],
   "source": [
    "var chunkSize = new int[]{64,};\n",
    "N5Utils.save(img, n5Writer, groupPath, chunkSize, compression);"
   ]
  },
  {
   "cell_type": "code",
   "execution_count": 29,
   "id": "fd9d79c1",
   "metadata": {},
   "outputs": [
    {
     "name": "stdout",
     "output_type": "stream",
     "text": [
      "my-container.n5/data/1/1 is 50 bytes\n",
      "my-container.n5/data/1/0 is 50 bytes\n",
      "my-container.n5/data/0/1 is 50 bytes\n",
      "my-container.n5/data/0/0 is 36 bytes\n"
     ]
    }
   ],
   "source": [
    "try (Stream<Path> stream = Files.walk(Paths.get(\"my-container.n5/data\"))) {\n",
    "    stream.filter(Files::isRegularFile)\n",
    "        .filter( p -> p.getFileName().toString().matches(\"[0-9]\"))\n",
    "            .forEach( x -> { try {  \n",
    "                    System.out.println(String.format(\"%s is %d bytes\", x, Files.size(x))); \n",
    "                } catch(IOException e){}\n",
    "            });\n",
    "}"
   ]
  },
  {
   "cell_type": "code",
   "execution_count": 10,
   "id": "de0fadca",
   "metadata": {
    "tags": [
     "n5-imglib2-open"
    ]
   },
   "outputs": [
    {
     "data": {
      "text/plain": [
       "[64, 64]"
      ]
     },
     "execution_count": 10,
     "metadata": {},
     "output_type": "execute_result"
    }
   ],
   "source": [
    "//| output: false\n",
    "var loadedImg = N5Utils.open(n5Writer, groupPath);\n",
    "Util.getTypeFromInterval(loadedImg).getClass();      // FloatType\n",
    "Arrays.toString(loadedImg.dimensionsAsLongArray());  // [64, 64]"
   ]
  },
  {
   "cell_type": "code",
   "execution_count": 11,
   "id": "f861d622",
   "metadata": {
    "tags": [
     "n5-imglib2-overwrite"
    ]
   },
   "outputs": [
    {
     "data": {
      "text/plain": [
       "[2, 2]"
      ]
     },
     "execution_count": 11,
     "metadata": {},
     "output_type": "execute_result"
    }
   ],
   "source": [
    "//| output: false\n",
    "// overwrite our previous data\n",
    "var img = ArrayImgs.unsignedBytes(2,2);\n",
    "N5Utils.save(img, n5Writer, groupPath, chunkSize, compression);\n",
    "\n",
    "// load the new data, the old data are no longer accessible\n",
    "var loadedImg = N5Utils.open(n5Writer, groupPath);\n",
    "Arrays.toString(loadedImg.dimensionsAsLongArray());  // [2, 2]"
   ]
  },
  {
   "cell_type": "code",
   "execution_count": 12,
   "id": "75f3c15f",
   "metadata": {
    "tags": [
     "attributes-1"
    ]
   },
   "outputs": [
    {
     "data": {
      "text/plain": [
       "2024-Jan-01"
      ]
     },
     "execution_count": 12,
     "metadata": {},
     "output_type": "execute_result"
    }
   ],
   "source": [
    "// create a group inside the container (think: \"folder\")\n",
    "var groupName = \"put-data-in-me\";\n",
    "n5Writer.createGroup(groupName);\n",
    "\n",
    "// attributes have names and values\n",
    "// make an attribute called \"date\" with a String value\n",
    "var attributeName = \"date\";\n",
    "n5Writer.setAttribute(groupName, attributeName, \"2024-Jan-01\");\n",
    "\n",
    "// get the value of the \"date\" attribute\n",
    "n5Writer.getAttribute(groupName, attributeName, String.class);"
   ]
  },
  {
   "cell_type": "code",
   "execution_count": 13,
   "id": "bc080bb5",
   "metadata": {
    "tags": [
     "attr-types"
    ]
   },
   "outputs": [],
   "source": [
    "//| output: false\n",
    "n5Writer.setAttribute(groupName, \"a\", 42);\n",
    "var num = n5Writer.getAttribute(groupName, \"a\", double.class); // 42.0\n",
    "var str = n5Writer.getAttribute(groupName, \"a\", String.class); // \"42\""
   ]
  },
  {
   "cell_type": "code",
   "execution_count": 14,
   "id": "76639ba3",
   "metadata": {
    "tags": [
     "fun-with-metadata"
    ]
   },
   "outputs": [],
   "source": [
    "//| code-fold: true\n",
    "class FunWithMetadata {\n",
    "    String name;\n",
    "    int number;\n",
    "    double[] data;\n",
    "    \n",
    "    public FunWithMetadata(String name, int number, double[] data) {\n",
    "        this.name = name;\n",
    "        this.number = number;\n",
    "        this.data = data;\n",
    "    }\n",
    "    public String toString(){\n",
    "        return String.format( \"FunWithMetadata{%s(%d): %s}\", \n",
    "            name, number, Arrays.toString(data));\n",
    "    }\n",
    "};"
   ]
  },
  {
   "cell_type": "code",
   "execution_count": 15,
   "id": "03dc0d4d",
   "metadata": {
    "tags": [
     "rich-metadata"
    ]
   },
   "outputs": [
    {
     "data": {
      "text/plain": [
       "FunWithMetadata{Dorothy(2): [2.72, 3.14]}"
      ]
     },
     "execution_count": 15,
     "metadata": {},
     "output_type": "execute_result"
    }
   ],
   "source": [
    "var metadata = new FunWithMetadata(\"Dorothy\", 2, new double[]{2.72, 3.14});\n",
    "n5Writer.setAttribute(groupName, \"metadata\", metadata);\n",
    "\n",
    "var loadedMetadata = n5Writer.getAttribute(groupName, \"metadata\", \n",
    "    FunWithMetadata.class);\n",
    "loadedMetadata"
   ]
  },
  {
   "cell_type": "code",
   "execution_count": 16,
   "id": "1b8133bc",
   "metadata": {
    "tags": [
     "all-metadata"
    ]
   },
   "outputs": [
    {
     "data": {
      "text/plain": [
       "{\"date\":\"2024-Jan-01\",\"a\":42,\"metadata\":{\"name\":\"Dorothy\",\"number\":2,\"data\":[2.72,3.14]}}"
      ]
     },
     "execution_count": 16,
     "metadata": {},
     "output_type": "execute_result"
    }
   ],
   "source": [
    "n5Writer.getAttribute(groupName, \"/\", JsonElement.class);"
   ]
  },
  {
   "cell_type": "code",
   "execution_count": 17,
   "id": "5ebc9d0d",
   "metadata": {
    "tags": [
     "remove-attrs"
    ]
   },
   "outputs": [],
   "source": [
    "// set attributes\n",
    "n5Writer.setAttribute(groupName, \"sender\", \"Alice\");\n",
    "n5Writer.setAttribute(groupName, \"receiver\", \"Bob\");\n",
    "\n",
    "// notice that they're set\n",
    "n5Writer.getAttribute(groupName, \"sender\", String.class);   // Alice\n",
    "n5Writer.getAttribute(groupName, \"receiver\", String.class); // Bob\n",
    "\n",
    "// remove \"sender\"\n",
    "n5Writer.removeAttribute(groupName, \"sender\");\n",
    "\n",
    "// remove \"receiver\" and store result in a variable\n",
    "var receiver = n5Writer.removeAttribute(groupName, \"receiver\", String.class); // Bob\n",
    "\n",
    "n5Writer.getAttribute(groupName, \"sender\", String.class);   // null\n",
    "n5Writer.getAttribute(groupName, \"receiver\", String.class); // null"
   ]
  },
  {
   "cell_type": "code",
   "execution_count": 18,
   "id": "d0fb1e31",
   "metadata": {
    "tags": [
     "bonus"
    ]
   },
   "outputs": [
    {
     "data": {
      "text/plain": [
       "[2, 2]"
      ]
     },
     "execution_count": 18,
     "metadata": {},
     "output_type": "execute_result"
    }
   ],
   "source": [
    "Arrays.toString(n5Writer.getAttribute(\"data\", \"dimensions\", long[].class));"
   ]
  }
 ],
 "metadata": {
  "celltoolbar": "Tags",
  "kernelspec": {
   "display_name": "Java",
   "language": "java",
   "name": "java"
  },
  "language_info": {
   "codemirror_mode": "java",
   "file_extension": ".jshell",
   "mimetype": "text/x-java-source",
   "name": "Java",
   "pygments_lexer": "java",
   "version": "19.0.2+7-Ubuntu-0ubuntu322.04"
  }
 },
 "nbformat": 4,
 "nbformat_minor": 5
}
