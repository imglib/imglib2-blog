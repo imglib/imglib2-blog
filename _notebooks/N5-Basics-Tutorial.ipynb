{
 "cells": [
  {
   "cell_type": "code",
   "execution_count": null,
   "id": "fc279646",
   "metadata": {
    "vscode": {
     "languageId": "java"
    }
   },
   "outputs": [],
   "source": []
  },
  {
   "cell_type": "code",
   "execution_count": 1,
   "id": "ef2f3d2c",
   "metadata": {
    "vscode": {
     "languageId": "java"
    }
   },
   "outputs": [],
   "source": [
    "%mavenRepo scijava.public https://maven.scijava.org/content/groups/public\n",
    "%maven org.scijava:scijava-common:2.97.0\n",
    "%maven net.imglib2:imglib2:6.2.0\n",
    "%maven org.janelia.saalfeldlab:n5:3.1.2\n",
    "%maven org.janelia.saalfeldlab:n5-imglib2:7.0.0\n",
    "%maven org.janelia.saalfeldlab:n5-universe:1.3.1"
   ]
  },
  {
   "cell_type": "code",
   "execution_count": 2,
   "id": "f70aa4d8",
   "metadata": {
    "vscode": {
     "languageId": "java"
    }
   },
   "outputs": [],
   "source": [
    "import java.nio.file.*;\n",
    "import java.util.stream.*;\n",
    "import java.util.concurrent.*;\n",
    "\n",
    "import com.google.gson.*;\n",
    "\n",
    "import net.imglib2.*;\n",
    "import net.imglib2.img.array.*;\n",
    "import net.imglib2.type.numeric.real.*;\n",
    "import net.imglib2.view.*;\n",
    "import net.imglib2.util.*;\n",
    "\n",
    "import org.janelia.saalfeldlab.n5.*;\n",
    "import org.janelia.saalfeldlab.n5.imglib2.*;\n",
    "import org.janelia.saalfeldlab.n5.universe.*;"
   ]
  },
  {
   "cell_type": "code",
   "execution_count": 3,
   "id": "b994b3b7",
   "metadata": {
    "vscode": {
     "languageId": "java"
    }
   },
   "outputs": [],
   "source": [
    "public static void pathInfo(Path p) {\n",
    "    try {\n",
    "        System.out.println(String.format(\"%s is %d bytes\", p, Files.size(p))); \n",
    "    } catch(IOException e ){}\n",
    "}\n",
    "\n",
    "public static void printBlocks(String path) throws IOException {\n",
    "\n",
    "    try (Stream<Path> stream = Files.walk(Paths.get(path))) {\n",
    "        stream.filter(Files::isRegularFile)\n",
    "            .filter( p -> p.getFileName().toString().matches(\"[0-9]\"))\n",
    "                .forEach( x -> { pathInfo(x); });\n",
    "    }\n",
    "}"
   ]
  },
  {
   "cell_type": "code",
   "execution_count": 4,
   "id": "89830e81",
   "metadata": {
    "tags": [
     "make-reader-writer"
    ],
    "vscode": {
     "languageId": "java"
    }
   },
   "outputs": [
    {
     "data": {
      "text/plain": [
       "true"
      ]
     },
     "execution_count": 4,
     "metadata": {},
     "output_type": "execute_result"
    }
   ],
   "source": [
    "//| output: false\n",
    "\n",
    "// N5Factory can make N5Readers and N5Writers\n",
    "var factory = new N5Factory();\n",
    "\n",
    "// trying to open a reader for a container that does not yet exist will throw an error \n",
    "// var n5Reader = factory.openReader(\"my-container.n5\");\n",
    "\n",
    "// creating a writer creates a container at the given location\n",
    "// if it does not already exist\n",
    "var n5Writer = factory.openWriter(\"my-container.n5\");\n",
    "\n",
    "// now we can make a reader\n",
    "var n5Reader = factory.openReader(\"my-container.n5\");\n",
    "\n",
    "// test if the container exists\n",
    "n5Reader.exists(\"\"); // true\n",
    "\n",
    "// \"\" and \"/\" both refer to the root of the container\n",
    "n5Reader.exists(\"/\"); // true"
   ]
  },
  {
   "cell_type": "code",
   "execution_count": 5,
   "id": "8a6621e1",
   "metadata": {
    "tags": [
     "factory-types"
    ],
    "vscode": {
     "languageId": "java"
    }
   },
   "outputs": [
    {
     "data": {
      "text/plain": [
       "class org.janelia.saalfeldlab.n5.zarr.N5ZarrWriter"
      ]
     },
     "execution_count": 5,
     "metadata": {},
     "output_type": "execute_result"
    }
   ],
   "source": [
    "//| output: false\n",
    "factory.openWriter(\"my-container.h5\").getClass();   // HDF5 Format N5Writer\n",
    "factory.openWriter(\"my-container.n5\").getClass();   // N5 Format   N5Writer\n",
    "factory.openWriter(\"my-container.zarr\").getClass(); // Zarr Format N5Writer"
   ]
  },
  {
   "cell_type": "code",
   "execution_count": 6,
   "id": "9ee0c14d",
   "metadata": {
    "tags": [
     "make-groups"
    ],
    "vscode": {
     "languageId": "java"
    }
   },
   "outputs": [
    {
     "data": {
      "text/plain": [
       "false"
      ]
     },
     "execution_count": 6,
     "metadata": {},
     "output_type": "execute_result"
    }
   ],
   "source": [
    "//| output: false\n",
    "n5Writer.createGroup(\"foo\");\n",
    "n5Writer.createGroup(\"foo/bar\");\n",
    "n5Writer.createGroup(\"lorum/ipsum/dolor/sit/amet\");\n",
    "\n",
    "n5Writer.exists(\"lorum/ipsum\");      // true\n",
    "n5Writer.exists(\"not/a/real/group\"); // false"
   ]
  },
  {
   "cell_type": "code",
   "execution_count": 7,
   "id": "72496634",
   "metadata": {
    "tags": [
     "list"
    ],
    "vscode": {
     "languageId": "java"
    }
   },
   "outputs": [
    {
     "data": {
      "text/plain": [
       "[Ljava.lang.String;@124e468"
      ]
     },
     "execution_count": 7,
     "metadata": {},
     "output_type": "execute_result"
    }
   ],
   "source": [
    "//| output: false\n",
    "n5Writer.list(\"\");     // [lorum, foo]\n",
    "n5Writer.list(\"foo\");  // [bar]"
   ]
  },
  {
   "cell_type": "code",
   "execution_count": 8,
   "id": "1f363282",
   "metadata": {
    "tags": [
     "deep-list"
    ],
    "vscode": {
     "languageId": "java"
    }
   },
   "outputs": [
    {
     "data": {
      "text/plain": [
       "[lorum, lorum/ipsum, lorum/ipsum/dolor, lorum/ipsum/dolor/sit, lorum/ipsum/dolor/sit/amet, foo, foo/bar]"
      ]
     },
     "execution_count": 8,
     "metadata": {},
     "output_type": "execute_result"
    }
   ],
   "source": [
    "Arrays.toString(n5Writer.deepList(\"\"));"
   ]
  },
  {
   "cell_type": "code",
   "execution_count": 9,
   "id": "996e162e",
   "metadata": {
    "vscode": {
     "languageId": "java"
    }
   },
   "outputs": [],
   "source": [
    "public static RandomAccessibleInterval<FloatType> demoImage(long... size) {\n",
    "\n",
    "    final RandomAccessibleInterval<FloatType> img = ArrayImgs.floats(size);\n",
    "    float f = 0f;\n",
    "    Cursor<FloatType> c = Views.flatIterable(img).cursor();\n",
    "    while (c.hasNext())\n",
    "        c.next().set(f++);\n",
    "\n",
    "    return img;\n",
    "}"
   ]
  },
  {
   "cell_type": "code",
   "execution_count": 10,
   "id": "28e3835d",
   "metadata": {
    "tags": [
     "n5-imglib2-save"
    ],
    "vscode": {
     "languageId": "java"
    }
   },
   "outputs": [],
   "source": [
    "// the parameters\n",
    "var img = demoImage(64,64); // the image to write- size 64 x 64\n",
    "var groupPath = \"data\"; \n",
    "var blockSize = new int[]{32,32};\n",
    "var compression = new GzipCompression();\n",
    "\n",
    "// save the image\n",
    "N5Utils.save(img, n5Writer, groupPath, blockSize, compression);"
   ]
  },
  {
   "cell_type": "code",
   "execution_count": 11,
   "id": "131e8bd4",
   "metadata": {
    "tags": [
     "n5-imglib2-save-exec"
    ],
    "vscode": {
     "languageId": "java"
    }
   },
   "outputs": [],
   "source": [
    "var exec = Executors.newFixedThreadPool(4); // with 4 parallel threads\n",
    "N5Utils.save(img, n5Writer, groupPath, blockSize, compression, exec);"
   ]
  },
  {
   "cell_type": "code",
   "execution_count": 12,
   "id": "79901ca0",
   "metadata": {
    "tags": [
     "four-blocks"
    ],
    "vscode": {
     "languageId": "java"
    }
   },
   "outputs": [
    {
     "name": "stdout",
     "output_type": "stream",
     "text": [
      "my-container.n5/data/1/1 is 1762 bytes\n",
      "my-container.n5/data/1/0 is 2012 bytes\n",
      "my-container.n5/data/0/1 is 1763 bytes\n",
      "my-container.n5/data/0/0 is 2020 bytes\n"
     ]
    }
   ],
   "source": [
    "//| code-fold: true\n",
    "printBlocks(\"my-container.n5/data\");"
   ]
  },
  {
   "cell_type": "code",
   "execution_count": 13,
   "id": "91647d07",
   "metadata": {
    "tags": [
     "eight-blocks"
    ],
    "vscode": {
     "languageId": "java"
    }
   },
   "outputs": [
    {
     "name": "stdout",
     "output_type": "stream",
     "text": [
      "my-container.n5/data/0/1 is 837 bytes\n",
      "my-container.n5/data/0/7 is 847 bytes\n",
      "my-container.n5/data/0/3 is 839 bytes\n",
      "my-container.n5/data/0/6 is 844 bytes\n",
      "my-container.n5/data/0/0 is 968 bytes\n",
      "my-container.n5/data/0/4 is 846 bytes\n",
      "my-container.n5/data/0/2 is 840 bytes\n",
      "my-container.n5/data/0/5 is 847 bytes\n"
     ]
    }
   ],
   "source": [
    "// remove the old data\n",
    "n5Writer.remove(groupPath);\n",
    "\n",
    "// rewrite with a different block size\n",
    "var blockSize = new int[]{64,8};\n",
    "N5Utils.save(img, n5Writer, groupPath, blockSize, compression);\n",
    "\n",
    "// how many blocks are there?\n",
    "printBlocks(\"my-container.n5/data\");"
   ]
  },
  {
   "cell_type": "code",
   "execution_count": null,
   "id": "9b37d386",
   "metadata": {
    "tags": [
     "no-compression"
    ],
    "vscode": {
     "languageId": "java"
    }
   },
   "outputs": [
    {
     "name": "stdout",
     "output_type": "stream",
     "text": [
      "my-container.n5/dataNoCompression/1/1 is 4108 bytes\n",
      "my-container.n5/dataNoCompression/1/0 is 4108 bytes\n",
      "my-container.n5/dataNoCompression/0/1 is 4108 bytes\n",
      "my-container.n5/dataNoCompression/0/0 is 4108 bytes\n"
     ]
    }
   ],
   "source": [
    "// rewrite without compression\n",
    "var groupPath = \"dataNoCompression\"; \n",
    "var blockSize = new int[]{32,32};\n",
    "var compression = new RawCompression();\n",
    "N5Utils.save(img, n5Writer, groupPath, blockSize, compression);\n",
    "\n",
    "// what size are the blocks?\n"
   ]
  },
  {
   "cell_type": "code",
   "execution_count": null,
   "id": "846cae4c",
   "metadata": {
    "vscode": {
     "languageId": "java"
    }
   },
   "outputs": [],
   "source": [
    "//|code-folde: true\n",
    "printBlocks(\"my-container.n5/dataNoCompression\");"
   ]
  },
  {
   "cell_type": "code",
   "execution_count": 15,
   "id": "de0fadca",
   "metadata": {
    "tags": [
     "n5-imglib2-open"
    ],
    "vscode": {
     "languageId": "java"
    }
   },
   "outputs": [
    {
     "data": {
      "text/plain": [
       "[64, 64]"
      ]
     },
     "execution_count": 15,
     "metadata": {},
     "output_type": "execute_result"
    }
   ],
   "source": [
    "//| output: false\n",
    "var loadedImg = N5Utils.open(n5Writer, groupPath);\n",
    "Util.getTypeFromInterval(loadedImg).getClass();      // FloatType\n",
    "Arrays.toString(loadedImg.dimensionsAsLongArray());  // [64, 64]"
   ]
  },
  {
   "cell_type": "code",
   "execution_count": 16,
   "id": "f861d622",
   "metadata": {
    "tags": [
     "n5-imglib2-overwrite"
    ],
    "vscode": {
     "languageId": "java"
    }
   },
   "outputs": [
    {
     "data": {
      "text/plain": [
       "[2, 2]"
      ]
     },
     "execution_count": 16,
     "metadata": {},
     "output_type": "execute_result"
    }
   ],
   "source": [
    "//| output: false\n",
    "// overwrite our previous data\n",
    "var img = ArrayImgs.unsignedBytes(2,2);\n",
    "N5Utils.save(img, n5Writer, groupPath, blockSize, compression);\n",
    "\n",
    "// load the new data, the old data are no longer accessible\n",
    "var loadedImg = N5Utils.open(n5Writer, groupPath);\n",
    "Arrays.toString(loadedImg.dimensionsAsLongArray());  // [2, 2]"
   ]
  },
  {
   "cell_type": "code",
   "execution_count": 28,
   "id": "75f3c15f",
   "metadata": {
    "tags": [
     "attributes-1"
    ],
    "vscode": {
     "languageId": "java"
    }
   },
   "outputs": [
    {
     "name": "stdout",
     "output_type": "stream",
     "text": [
      "Error: could not get attribute as double[]\n"
     ]
    },
    {
     "data": {
      "text/plain": [
       "2024-Jan-01"
      ]
     },
     "execution_count": 28,
     "metadata": {},
     "output_type": "execute_result"
    }
   ],
   "source": [
    "// create a group inside the container (think: \"folder\")\n",
    "var groupName = \"put-data-in-me\";\n",
    "n5Writer.createGroup(groupName);\n",
    "\n",
    "// attributes have names and values\n",
    "// make an attribute called \"date\" with a String value\n",
    "var attributeName = \"date\";\n",
    "n5Writer.setAttribute(groupName, attributeName, \"2024-Jan-01\");\n",
    "\n",
    "// Ask the N5 API to make a double array from the data attribute\n",
    "// it will try and fail, so an exception will be thrown\n",
    "try {\n",
    "    var nothing = n5Writer.getAttribute(groupName, attributeName, double[].class);\n",
    "} catch( N5Exception e ) {\n",
    "    System.out.println(\"Error: could not get attribute as double[]\");\n",
    "}\n",
    "\n",
    "// get the value of the \"date\" attribute as a String\n",
    "String date = n5Writer.getAttribute(groupName, attributeName, String.class);\n",
    "date"
   ]
  },
  {
   "cell_type": "code",
   "execution_count": 18,
   "id": "bc080bb5",
   "metadata": {
    "tags": [
     "attr-types"
    ],
    "vscode": {
     "languageId": "java"
    }
   },
   "outputs": [],
   "source": [
    "//| output: false\n",
    "n5Writer.setAttribute(groupName, \"a\", 42);\n",
    "var num = n5Writer.getAttribute(groupName, \"a\", double.class); // 42.0\n",
    "var str = n5Writer.getAttribute(groupName, \"a\", String.class); // \"42\""
   ]
  },
  {
   "cell_type": "code",
   "execution_count": 19,
   "id": "76639ba3",
   "metadata": {
    "tags": [
     "fun-with-metadata"
    ],
    "vscode": {
     "languageId": "java"
    }
   },
   "outputs": [],
   "source": [
    "//| code-fold: true\n",
    "class FunWithMetadata {\n",
    "    String name;\n",
    "    int number;\n",
    "    double[] data;\n",
    "    \n",
    "    public FunWithMetadata(String name, int number, double[] data) {\n",
    "        this.name = name;\n",
    "        this.number = number;\n",
    "        this.data = data;\n",
    "    }\n",
    "    public String toString(){\n",
    "        return String.format( \"FunWithMetadata{%s(%d): %s}\", \n",
    "            name, number, Arrays.toString(data));\n",
    "    }\n",
    "};"
   ]
  },
  {
   "cell_type": "code",
   "execution_count": 20,
   "id": "03dc0d4d",
   "metadata": {
    "tags": [
     "rich-metadata"
    ],
    "vscode": {
     "languageId": "java"
    }
   },
   "outputs": [
    {
     "data": {
      "text/plain": [
       "FunWithMetadata{Dorothy(2): [2.72, 3.14]}"
      ]
     },
     "execution_count": 20,
     "metadata": {},
     "output_type": "execute_result"
    }
   ],
   "source": [
    "var metadata = new FunWithMetadata(\"Dorothy\", 2, new double[]{2.72, 3.14});\n",
    "n5Writer.setAttribute(groupName, \"metadata\", metadata);\n",
    "\n",
    "// get attribute as an instance of FunWithMetdata\n",
    "n5Writer.getAttribute(groupName, \"metadata\",  FunWithMetadata.class);"
   ]
  },
  {
   "cell_type": "code",
   "execution_count": 21,
   "id": "1b8133bc",
   "metadata": {
    "tags": [
     "all-metadata"
    ],
    "vscode": {
     "languageId": "java"
    }
   },
   "outputs": [
    {
     "data": {
      "text/plain": [
       "{\"date\":\"2024-Jan-01\",\"a\":42,\"metadata\":{\"name\":\"Dorothy\",\"number\":2,\"data\":[2.72,3.14]}}"
      ]
     },
     "execution_count": 21,
     "metadata": {},
     "output_type": "execute_result"
    }
   ],
   "source": [
    "// get attribute as an instance of JsonElement\n",
    "n5Writer.getAttribute(groupName, \"/\", JsonElement.class);"
   ]
  },
  {
   "cell_type": "code",
   "execution_count": 22,
   "id": "5ebc9d0d",
   "metadata": {
    "tags": [
     "remove-attrs"
    ],
    "vscode": {
     "languageId": "java"
    }
   },
   "outputs": [],
   "source": [
    "// set attributes\n",
    "n5Writer.setAttribute(groupName, \"sender\", \"Alice\");\n",
    "n5Writer.setAttribute(groupName, \"receiver\", \"Bob\");\n",
    "\n",
    "// notice that they're set\n",
    "n5Writer.getAttribute(groupName, \"sender\", String.class);   // Alice\n",
    "n5Writer.getAttribute(groupName, \"receiver\", String.class); // Bob\n",
    "\n",
    "// remove \"sender\"\n",
    "n5Writer.removeAttribute(groupName, \"sender\");\n",
    "\n",
    "// remove \"receiver\" and store result in a variable\n",
    "var receiver = n5Writer.removeAttribute(groupName, \"receiver\", String.class); // Bob\n",
    "\n",
    "n5Writer.getAttribute(groupName, \"sender\", String.class);   // null\n",
    "n5Writer.getAttribute(groupName, \"receiver\", String.class); // null"
   ]
  },
  {
   "cell_type": "code",
   "execution_count": 23,
   "id": "d0fb1e31",
   "metadata": {
    "tags": [
     "bonus"
    ],
    "vscode": {
     "languageId": "java"
    }
   },
   "outputs": [
    {
     "data": {
      "text/plain": [
       "[64, 64]"
      ]
     },
     "execution_count": 23,
     "metadata": {},
     "output_type": "execute_result"
    }
   ],
   "source": [
    "Arrays.toString(n5Writer.getAttribute(\"data\", \"dimensions\", long[].class));"
   ]
  },
  {
   "cell_type": "code",
   "execution_count": null,
   "id": "23e83cc7",
   "metadata": {
    "vscode": {
     "languageId": "java"
    }
   },
   "outputs": [],
   "source": [
    "var arrayMetadata = n5Writer.getDatasetAttributes(\"data\");\n",
    "arrayMetadata.dimensions;\n",
    "arrayMetadata.blockSize;\n",
    "arrayMetadata.dataType;\n",
    "arrayMetadata.compression;"
   ]
  }
 ],
 "metadata": {
  "celltoolbar": "Tags",
  "kernelspec": {
   "display_name": "Java",
   "language": "java",
   "name": "java"
  },
  "language_info": {
   "codemirror_mode": "java",
   "file_extension": ".jshell",
   "mimetype": "text/x-java-source",
   "name": "Java",
   "pygments_lexer": "java",
   "version": "19.0.2+7-Ubuntu-0ubuntu322.04"
  }
 },
 "nbformat": 4,
 "nbformat_minor": 5
}
